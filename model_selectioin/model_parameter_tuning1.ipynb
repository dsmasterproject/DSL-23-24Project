{
 "cells": [
  {
   "cell_type": "code",
   "execution_count": 2,
   "metadata": {},
   "outputs": [],
   "source": [
    "import pandas as pd\n",
    "from sklearn.model_selection import RandomizedSearchCV\n",
    "from sklearn.ensemble import RandomForestRegressor\n",
    "import numpy as np\n",
    "\n",
    "development = pd.read_csv(\"./../../DSL_Winter_Project_2024/development.csv\")\n",
    "\n",
    "outlier_column_index=[0, 7, 12, 15, 16, 17]\n",
    "columns_to_drop=[]\n",
    "\n",
    "for index in outlier_column_index:\n",
    "    columns_to_drop.append('pmax[%s]' % index)\n",
    "    columns_to_drop.append('negpmax[%s]' % index)\n",
    "    columns_to_drop.append('tmax[%s]' % index)\n",
    "    columns_to_drop.append('area[%s]' % index)\n",
    "    columns_to_drop.append('rms[%s]' % index)\n",
    "\n",
    "df=development.drop(columns=columns_to_drop)\n",
    "\n",
    "train_datasets = []\n",
    "test_datasets=[]\n",
    "\n",
    "for i in range(0, len(df), 100):\n",
    "    subset1 = df.iloc[i:i+100].head(3)\n",
    "    train_datasets.append(subset1)\n",
    "\n",
    "    subset2 = df.iloc[i:i+100].tail(1)\n",
    "    test_datasets.append(subset2)\n",
    "\n",
    "train_df=pd.concat(train_datasets, ignore_index=False)\n",
    "test_df=pd.concat(test_datasets, ignore_index=False)\n",
    "\n",
    "X_train=train_df.drop(columns=['x', 'y'])\n",
    "y_train=train_df.loc[:,['x', 'y']]\n",
    "\n",
    "X_test=test_df.drop(columns=['x', 'y'])\n",
    "y_test=test_df.loc[:,['x', 'y']]"
   ]
  },
  {
   "cell_type": "markdown",
   "metadata": {},
   "source": [
    "output0.csv"
   ]
  },
  {
   "cell_type": "code",
   "execution_count": 7,
   "metadata": {},
   "outputs": [
    {
     "name": "stdout",
     "output_type": "stream",
     "text": [
      "{'n_estimators': [50, 100, 200, 300], 'max_features': ['auto', 'sqrt', 'log2'], 'max_depth': [5, 10, 20, None], 'min_samples_split': [2, 5, 10, 20, 50], 'min_samples_leaf': [1, 2, 5, 10, 20]}\n"
     ]
    }
   ],
   "source": [
    "#n_estimators_range=[int(x) for x in np.linspace(start=50,stop=3000,num=60)]\n",
    "n_estimators_range=[50,100, 200, 300]\n",
    "max_features_range=['auto','sqrt','log2']\n",
    "#max_depth_range=[int(x) for x in np.linspace(10,500,num=50)]\n",
    "max_depth_range=[5, 10, 20]\n",
    "max_depth_range.append(None)\n",
    "min_samples_split_range=[2,5,10,20,50]\n",
    "min_samples_leaf_range=[1, 2, 5, 10, 20]\n",
    "\n",
    "rfr_hp_range={'n_estimators':n_estimators_range,\n",
    "              'max_features':max_features_range,\n",
    "              'max_depth':max_depth_range,\n",
    "              'min_samples_split':min_samples_split_range,\n",
    "              'min_samples_leaf':min_samples_leaf_range\n",
    "             }\n",
    "print(rfr_hp_range)"
   ]
  },
  {
   "cell_type": "code",
   "execution_count": 9,
   "metadata": {},
   "outputs": [
    {
     "name": "stdout",
     "output_type": "stream",
     "text": [
      "Fitting 5 folds for each of 200 candidates, totalling 1000 fits\n"
     ]
    },
    {
     "name": "stderr",
     "output_type": "stream",
     "text": [
      "/Users/xuyan/anaconda3/lib/python3.11/site-packages/joblib/externals/loky/process_executor.py:700: UserWarning: A worker stopped while some jobs were given to the executor. This can be caused by a too short worker timeout or by a memory leak.\n",
      "  warnings.warn(\n",
      "/Users/xuyan/anaconda3/lib/python3.11/site-packages/sklearn/model_selection/_validation.py:425: FitFailedWarning: \n",
      "365 fits failed out of a total of 1000.\n",
      "The score on these train-test partitions for these parameters will be set to nan.\n",
      "If these failures are not expected, you can try to debug them by setting error_score='raise'.\n",
      "\n",
      "Below are more details about the failures:\n",
      "--------------------------------------------------------------------------------\n",
      "186 fits failed with the following error:\n",
      "Traceback (most recent call last):\n",
      "  File \"/Users/xuyan/anaconda3/lib/python3.11/site-packages/sklearn/model_selection/_validation.py\", line 732, in _fit_and_score\n",
      "    estimator.fit(X_train, y_train, **fit_params)\n",
      "  File \"/Users/xuyan/anaconda3/lib/python3.11/site-packages/sklearn/base.py\", line 1144, in wrapper\n",
      "    estimator._validate_params()\n",
      "  File \"/Users/xuyan/anaconda3/lib/python3.11/site-packages/sklearn/base.py\", line 637, in _validate_params\n",
      "    validate_parameter_constraints(\n",
      "  File \"/Users/xuyan/anaconda3/lib/python3.11/site-packages/sklearn/utils/_param_validation.py\", line 95, in validate_parameter_constraints\n",
      "    raise InvalidParameterError(\n",
      "sklearn.utils._param_validation.InvalidParameterError: The 'max_features' parameter of RandomForestRegressor must be an int in the range [1, inf), a float in the range (0.0, 1.0], a str among {'log2', 'sqrt'} or None. Got 'auto' instead.\n",
      "\n",
      "--------------------------------------------------------------------------------\n",
      "179 fits failed with the following error:\n",
      "Traceback (most recent call last):\n",
      "  File \"/Users/xuyan/anaconda3/lib/python3.11/site-packages/sklearn/model_selection/_validation.py\", line 732, in _fit_and_score\n",
      "    estimator.fit(X_train, y_train, **fit_params)\n",
      "  File \"/Users/xuyan/anaconda3/lib/python3.11/site-packages/sklearn/base.py\", line 1144, in wrapper\n",
      "    estimator._validate_params()\n",
      "  File \"/Users/xuyan/anaconda3/lib/python3.11/site-packages/sklearn/base.py\", line 637, in _validate_params\n",
      "    validate_parameter_constraints(\n",
      "  File \"/Users/xuyan/anaconda3/lib/python3.11/site-packages/sklearn/utils/_param_validation.py\", line 95, in validate_parameter_constraints\n",
      "    raise InvalidParameterError(\n",
      "sklearn.utils._param_validation.InvalidParameterError: The 'max_features' parameter of RandomForestRegressor must be an int in the range [1, inf), a float in the range (0.0, 1.0], a str among {'sqrt', 'log2'} or None. Got 'auto' instead.\n",
      "\n",
      "  warnings.warn(some_fits_failed_message, FitFailedWarning)\n",
      "/Users/xuyan/anaconda3/lib/python3.11/site-packages/sklearn/model_selection/_search.py:976: UserWarning: One or more of the test scores are non-finite: [-1.28590023 -1.07152781 -2.36402444 -1.09571513         nan -0.79525872\n",
      "         nan         nan -0.74201487 -0.96599722 -0.8050491          nan\n",
      "         nan -0.80796008 -2.65751172 -2.45814431 -0.8558714  -0.90084286\n",
      " -1.222209   -0.72724779         nan         nan         nan         nan\n",
      " -2.51032395 -2.82715074         nan -1.0067712          nan -1.38431285\n",
      "         nan -1.20385897         nan -0.63181573         nan -1.3314589\n",
      " -0.74112368         nan         nan         nan -0.88681502 -2.52133036\n",
      " -0.80337613         nan         nan         nan         nan         nan\n",
      "         nan -2.73240914 -1.10397705 -0.93756818         nan -2.44422011\n",
      " -0.91229431         nan         nan -1.09490051 -0.59381258         nan\n",
      "         nan -2.4793595  -2.79547845         nan -2.64703444         nan\n",
      "         nan -1.10825058 -0.91495733 -1.13878168 -0.72553251 -2.45935502\n",
      " -1.27446018         nan         nan -0.77521773 -2.51872661         nan\n",
      "         nan -0.80515276 -1.00849644 -2.81733345 -0.91414622 -2.55402381\n",
      " -0.89327783 -1.10416592 -0.85113909 -2.46126882 -0.63791193         nan\n",
      " -0.99790534 -0.95917594 -2.77721218         nan -0.65399557         nan\n",
      " -0.99070961         nan -2.85830205 -2.47935923 -1.22194267 -2.43325519\n",
      " -0.83258086         nan -1.24478449 -1.091434   -0.69376754         nan\n",
      " -1.00649526         nan         nan -1.25625973 -2.5070065          nan\n",
      "         nan -1.06316396 -2.89219638 -2.57273284 -0.72179584 -2.29264542\n",
      " -0.93183997         nan -0.6191285  -0.89501438 -0.84976108 -1.22589328\n",
      "         nan -2.36478853         nan         nan -2.71921971 -0.84899492\n",
      "         nan -2.7178695  -0.74636914         nan         nan -1.1538231\n",
      " -0.92065017         nan -1.15168039         nan         nan         nan\n",
      " -0.88793504 -1.03269692 -1.1417158          nan -1.34793014 -1.10934551\n",
      " -0.68915368         nan -0.69872132 -2.74919346         nan -0.84547564\n",
      "         nan -2.75207446 -1.28081547         nan -0.88951236         nan\n",
      " -0.71362626 -2.75855016 -2.80853106 -0.94267621         nan -1.23158743\n",
      " -1.22902104         nan -0.82236824         nan         nan -2.75265054\n",
      " -2.51678123 -1.08349461 -2.6546893  -0.79758394         nan -1.11775075\n",
      " -0.63203488 -0.68850952 -2.92253139 -1.08167802 -2.9375546          nan\n",
      " -1.13824924 -0.93601546 -0.78918611 -0.86899383 -0.8170072          nan\n",
      "         nan -0.84894391 -0.90421511 -2.54500292         nan         nan\n",
      "         nan -2.70443199]\n",
      "  warnings.warn(\n"
     ]
    },
    {
     "name": "stdout",
     "output_type": "stream",
     "text": [
      "{'n_estimators': 100, 'min_samples_split': 2, 'min_samples_leaf': 1, 'max_features': 'sqrt', 'max_depth': None}\n"
     ]
    }
   ],
   "source": [
    "rfr_base=RandomForestRegressor()\n",
    "rfr_random=RandomizedSearchCV(estimator=rfr_base,\n",
    "                              param_distributions=rfr_hp_range,\n",
    "                              n_iter=200,\n",
    "                              n_jobs=-1,\n",
    "                              cv=5,\n",
    "                              verbose=1,\n",
    "                              random_state=42)\n",
    "rfr_random.fit(X_train,y_train)\n",
    "\n",
    "best_hp_now=rfr_random.best_params_\n",
    "print(best_hp_now)"
   ]
  },
  {
   "cell_type": "markdown",
   "metadata": {},
   "source": [
    "output2.csv"
   ]
  },
  {
   "cell_type": "code",
   "execution_count": 10,
   "metadata": {},
   "outputs": [
    {
     "name": "stdout",
     "output_type": "stream",
     "text": [
      "{'n_estimators': [100, 150, 200, 250, 300, 350], 'max_features': ['auto', 'sqrt', 'log2'], 'max_depth': [5, 10, 20, 50, 100, None], 'min_samples_split': [2, 5, 10, 20, 50], 'min_samples_leaf': [1, 2, 5, 10, 20]}\n"
     ]
    }
   ],
   "source": [
    "#n_estimators_range=[int(x) for x in np.linspace(start=50,stop=3000,num=60)]\n",
    "n_estimators_range=[100, 150, 200, 250, 300, 350]\n",
    "max_features_range=['auto','sqrt','log2']\n",
    "#max_depth_range=[int(x) for x in np.linspace(10,500,num=50)]\n",
    "max_depth_range=[5, 10, 20, 50, 100]\n",
    "max_depth_range.append(None)\n",
    "min_samples_split_range=[2,5,10,20,50]\n",
    "min_samples_leaf_range=[1, 2, 5, 10, 20]\n",
    "\n",
    "rfr_hp_range={'n_estimators':n_estimators_range,\n",
    "              'max_features':max_features_range,\n",
    "              'max_depth':max_depth_range,\n",
    "              'min_samples_split':min_samples_split_range,\n",
    "              'min_samples_leaf':min_samples_leaf_range\n",
    "             }\n",
    "print(rfr_hp_range)"
   ]
  },
  {
   "cell_type": "code",
   "execution_count": 11,
   "metadata": {},
   "outputs": [
    {
     "name": "stdout",
     "output_type": "stream",
     "text": [
      "Fitting 5 folds for each of 200 candidates, totalling 1000 fits\n"
     ]
    },
    {
     "name": "stderr",
     "output_type": "stream",
     "text": [
      "/Users/xuyan/anaconda3/lib/python3.11/site-packages/joblib/externals/loky/process_executor.py:700: UserWarning: A worker stopped while some jobs were given to the executor. This can be caused by a too short worker timeout or by a memory leak.\n",
      "  warnings.warn(\n",
      "/Users/xuyan/anaconda3/lib/python3.11/site-packages/sklearn/model_selection/_validation.py:425: FitFailedWarning: \n",
      "330 fits failed out of a total of 1000.\n",
      "The score on these train-test partitions for these parameters will be set to nan.\n",
      "If these failures are not expected, you can try to debug them by setting error_score='raise'.\n",
      "\n",
      "Below are more details about the failures:\n",
      "--------------------------------------------------------------------------------\n",
      "194 fits failed with the following error:\n",
      "Traceback (most recent call last):\n",
      "  File \"/Users/xuyan/anaconda3/lib/python3.11/site-packages/sklearn/model_selection/_validation.py\", line 732, in _fit_and_score\n",
      "    estimator.fit(X_train, y_train, **fit_params)\n",
      "  File \"/Users/xuyan/anaconda3/lib/python3.11/site-packages/sklearn/base.py\", line 1144, in wrapper\n",
      "    estimator._validate_params()\n",
      "  File \"/Users/xuyan/anaconda3/lib/python3.11/site-packages/sklearn/base.py\", line 637, in _validate_params\n",
      "    validate_parameter_constraints(\n",
      "  File \"/Users/xuyan/anaconda3/lib/python3.11/site-packages/sklearn/utils/_param_validation.py\", line 95, in validate_parameter_constraints\n",
      "    raise InvalidParameterError(\n",
      "sklearn.utils._param_validation.InvalidParameterError: The 'max_features' parameter of RandomForestRegressor must be an int in the range [1, inf), a float in the range (0.0, 1.0], a str among {'sqrt', 'log2'} or None. Got 'auto' instead.\n",
      "\n",
      "--------------------------------------------------------------------------------\n",
      "136 fits failed with the following error:\n",
      "Traceback (most recent call last):\n",
      "  File \"/Users/xuyan/anaconda3/lib/python3.11/site-packages/sklearn/model_selection/_validation.py\", line 732, in _fit_and_score\n",
      "    estimator.fit(X_train, y_train, **fit_params)\n",
      "  File \"/Users/xuyan/anaconda3/lib/python3.11/site-packages/sklearn/base.py\", line 1144, in wrapper\n",
      "    estimator._validate_params()\n",
      "  File \"/Users/xuyan/anaconda3/lib/python3.11/site-packages/sklearn/base.py\", line 637, in _validate_params\n",
      "    validate_parameter_constraints(\n",
      "  File \"/Users/xuyan/anaconda3/lib/python3.11/site-packages/sklearn/utils/_param_validation.py\", line 95, in validate_parameter_constraints\n",
      "    raise InvalidParameterError(\n",
      "sklearn.utils._param_validation.InvalidParameterError: The 'max_features' parameter of RandomForestRegressor must be an int in the range [1, inf), a float in the range (0.0, 1.0], a str among {'log2', 'sqrt'} or None. Got 'auto' instead.\n",
      "\n",
      "  warnings.warn(some_fits_failed_message, FitFailedWarning)\n",
      "/Users/xuyan/anaconda3/lib/python3.11/site-packages/sklearn/model_selection/_search.py:976: UserWarning: One or more of the test scores are non-finite: [-1.28466415 -0.8873796  -1.09174005 -0.89281619 -0.73890971         nan\n",
      " -1.05462048         nan         nan -0.90410519 -0.64011255         nan\n",
      "         nan -0.65196967 -0.63497639 -0.76276206 -1.23798327 -1.28880677\n",
      "         nan -1.27644715         nan         nan         nan -0.83249981\n",
      " -0.85372665 -1.20225091 -2.59554411 -1.02591447 -2.72044882 -0.61810239\n",
      " -1.29587028 -1.09240133 -1.23808675 -0.85840066 -0.62198084 -0.86981103\n",
      "         nan         nan -0.66867609 -2.79832662 -2.7655069  -1.09366626\n",
      " -2.65668977 -0.62537474 -2.74431028 -2.53378331 -1.10664758         nan\n",
      " -0.73690323         nan         nan -2.41902364         nan -0.80952459\n",
      "         nan -1.23875918         nan -1.1915722  -0.73854863         nan\n",
      "         nan         nan -2.41906447 -1.26354817 -0.88802448 -1.03194928\n",
      " -0.91719359 -1.07772143 -0.83685141 -0.83845953 -0.77931412         nan\n",
      " -0.87314594 -0.73433134         nan -1.09321385 -2.47727676         nan\n",
      " -0.95920282         nan         nan -1.11116605         nan -0.82532588\n",
      " -1.07061898 -1.28683479         nan         nan         nan -0.72349074\n",
      "         nan -1.21244302         nan -1.00258272 -1.10634332 -1.02723031\n",
      "         nan -2.4200884  -0.84602872 -2.5302499          nan         nan\n",
      " -0.78315695 -0.6419754  -2.79828187 -2.68078424 -1.1943282          nan\n",
      " -1.04590206 -1.14766659         nan -0.75516137         nan -2.4494072\n",
      "         nan         nan         nan         nan         nan -0.81602718\n",
      " -0.84335402         nan -2.64809173 -0.70913999         nan         nan\n",
      " -1.3015486  -0.61536332 -0.73553292         nan         nan -0.80598738\n",
      "         nan -1.36605812 -1.18727076 -0.87244789 -1.20742097 -0.6877187\n",
      "         nan -1.37972441         nan -0.86733602 -1.05948757 -1.27002728\n",
      " -0.81263587 -1.2481296  -0.62188955 -1.2583382  -1.258922   -2.4930522\n",
      " -1.32542229         nan -0.86941503 -1.13906769         nan -0.94371121\n",
      "         nan -0.72448952         nan -0.92882426 -1.02566315 -1.19574975\n",
      " -1.2108899  -0.80372934         nan -1.23443859         nan -0.6877261\n",
      "         nan -2.463674   -2.78036167 -1.22258134 -0.82388139 -0.68719697\n",
      " -0.64708743         nan         nan -0.79943291 -0.97387278 -0.64468119\n",
      " -0.63570256         nan -1.22839823 -2.43079708 -0.83403214         nan\n",
      "         nan -0.92926374 -1.08303398 -1.07592775         nan         nan\n",
      " -2.67517249 -0.80006255 -2.82777729 -0.96188092         nan -0.96535999\n",
      " -1.11167466         nan]\n",
      "  warnings.warn(\n"
     ]
    },
    {
     "name": "stdout",
     "output_type": "stream",
     "text": [
      "{'n_estimators': 200, 'min_samples_split': 5, 'min_samples_leaf': 1, 'max_features': 'sqrt', 'max_depth': 50}\n"
     ]
    }
   ],
   "source": [
    "rfr_base=RandomForestRegressor()\n",
    "rfr_random=RandomizedSearchCV(estimator=rfr_base,\n",
    "                              param_distributions=rfr_hp_range,\n",
    "                              n_iter=200,\n",
    "                              n_jobs=-1,\n",
    "                              cv=5,\n",
    "                              verbose=1,\n",
    "                              random_state=42)\n",
    "rfr_random.fit(X_train,y_train)\n",
    "\n",
    "best_hp_now=rfr_random.best_params_\n",
    "print(best_hp_now)"
   ]
  },
  {
   "cell_type": "markdown",
   "metadata": {},
   "source": [
    "output3.csv 4.973"
   ]
  },
  {
   "cell_type": "code",
   "execution_count": 4,
   "metadata": {},
   "outputs": [
    {
     "name": "stdout",
     "output_type": "stream",
     "text": [
      "{'n_estimators': [150, 200, 250, 300, 350, 500], 'max_features': ['auto', 'sqrt', 'log2'], 'max_depth': [50, 100, 150, 200, 300, None], 'min_samples_split': [2, 5, 10, 20, 50], 'min_samples_leaf': [1, 2, 5, 10, 20]}\n",
      "Fitting 10 folds for each of 300 candidates, totalling 3000 fits\n"
     ]
    },
    {
     "name": "stderr",
     "output_type": "stream",
     "text": [
      "/Users/xuyan/anaconda3/lib/python3.11/site-packages/joblib/externals/loky/process_executor.py:700: UserWarning: A worker stopped while some jobs were given to the executor. This can be caused by a too short worker timeout or by a memory leak.\n",
      "  warnings.warn(\n",
      "/Users/xuyan/anaconda3/lib/python3.11/site-packages/sklearn/model_selection/_validation.py:425: FitFailedWarning: \n",
      "1050 fits failed out of a total of 3000.\n",
      "The score on these train-test partitions for these parameters will be set to nan.\n",
      "If these failures are not expected, you can try to debug them by setting error_score='raise'.\n",
      "\n",
      "Below are more details about the failures:\n",
      "--------------------------------------------------------------------------------\n",
      "534 fits failed with the following error:\n",
      "Traceback (most recent call last):\n",
      "  File \"/Users/xuyan/anaconda3/lib/python3.11/site-packages/sklearn/model_selection/_validation.py\", line 732, in _fit_and_score\n",
      "    estimator.fit(X_train, y_train, **fit_params)\n",
      "  File \"/Users/xuyan/anaconda3/lib/python3.11/site-packages/sklearn/base.py\", line 1144, in wrapper\n",
      "    estimator._validate_params()\n",
      "  File \"/Users/xuyan/anaconda3/lib/python3.11/site-packages/sklearn/base.py\", line 637, in _validate_params\n",
      "    validate_parameter_constraints(\n",
      "  File \"/Users/xuyan/anaconda3/lib/python3.11/site-packages/sklearn/utils/_param_validation.py\", line 95, in validate_parameter_constraints\n",
      "    raise InvalidParameterError(\n",
      "sklearn.utils._param_validation.InvalidParameterError: The 'max_features' parameter of RandomForestRegressor must be an int in the range [1, inf), a float in the range (0.0, 1.0], a str among {'log2', 'sqrt'} or None. Got 'auto' instead.\n",
      "\n",
      "--------------------------------------------------------------------------------\n",
      "516 fits failed with the following error:\n",
      "Traceback (most recent call last):\n",
      "  File \"/Users/xuyan/anaconda3/lib/python3.11/site-packages/sklearn/model_selection/_validation.py\", line 732, in _fit_and_score\n",
      "    estimator.fit(X_train, y_train, **fit_params)\n",
      "  File \"/Users/xuyan/anaconda3/lib/python3.11/site-packages/sklearn/base.py\", line 1144, in wrapper\n",
      "    estimator._validate_params()\n",
      "  File \"/Users/xuyan/anaconda3/lib/python3.11/site-packages/sklearn/base.py\", line 637, in _validate_params\n",
      "    validate_parameter_constraints(\n",
      "  File \"/Users/xuyan/anaconda3/lib/python3.11/site-packages/sklearn/utils/_param_validation.py\", line 95, in validate_parameter_constraints\n",
      "    raise InvalidParameterError(\n",
      "sklearn.utils._param_validation.InvalidParameterError: The 'max_features' parameter of RandomForestRegressor must be an int in the range [1, inf), a float in the range (0.0, 1.0], a str among {'sqrt', 'log2'} or None. Got 'auto' instead.\n",
      "\n",
      "  warnings.warn(some_fits_failed_message, FitFailedWarning)\n",
      "/Users/xuyan/anaconda3/lib/python3.11/site-packages/sklearn/model_selection/_search.py:976: UserWarning: One or more of the test scores are non-finite: [-1.4143312  -0.83234664 -1.10688595 -0.68611509 -0.57340155         nan\n",
      " -0.99239943         nan         nan -0.7330721  -0.39783673         nan\n",
      "         nan -0.41203744 -0.42478809 -0.54634632 -1.33477123 -1.37582411\n",
      "         nan -1.37984398         nan         nan         nan -0.6955504\n",
      " -0.72177643 -1.30214041 -0.73075395 -0.97674288 -0.75466338 -0.39158216\n",
      " -1.37359704 -1.11213704 -1.32008157 -0.77205316 -0.43937272 -0.7815485\n",
      "         nan         nan -0.44424332 -1.31107588 -1.35596135 -1.13901035\n",
      " -1.34999019 -0.39964234 -1.00735682 -1.12853958 -1.12154718         nan\n",
      " -0.52093992         nan         nan -1.10305394         nan -0.69548737\n",
      "         nan -1.39160476         nan -1.18212223 -0.42767567         nan\n",
      "         nan         nan -0.41403571 -1.36322415 -0.71716097 -0.96309652\n",
      " -0.85441858 -1.1553584  -0.67681684 -0.74963618 -0.50676675         nan\n",
      " -0.75458469 -0.5789828          nan -1.09893774 -0.50218496         nan\n",
      " -0.95628339         nan         nan -1.13160804         nan -0.73488578\n",
      " -1.04506381 -1.32795025         nan         nan         nan -0.53344426\n",
      "         nan -1.26294799         nan -1.00660888 -1.18319297 -0.98267933\n",
      "         nan -0.55003349 -0.70575785 -1.05705533         nan         nan\n",
      " -0.67033748 -0.41747073 -1.38881903 -1.34760725 -1.31806943         nan\n",
      " -0.99485766 -1.14157171         nan -0.55050344         nan -1.15165433\n",
      "         nan         nan         nan         nan         nan -0.67268929\n",
      " -0.75437137         nan -0.83549654 -0.56424322         nan         nan\n",
      " -1.33444801 -0.42119109 -0.56985115         nan         nan -0.5369715\n",
      "         nan -1.4530615  -1.32561235 -0.67506033 -1.35953277 -0.51449963\n",
      "         nan -1.522906           nan -0.70871157 -1.10871052 -1.33031085\n",
      " -0.72070459 -1.32899685 -0.40018983 -1.39170172 -1.41500547 -0.52157149\n",
      " -1.33004578         nan -0.75213707 -1.06380866         nan -0.87917269\n",
      "         nan -0.56493957         nan -0.75439026 -1.00432933 -1.30980358\n",
      " -1.2404326  -0.58893749         nan -1.35152467         nan -0.51743628\n",
      "         nan -1.23480568 -1.35071855 -1.28105899 -0.75289732 -0.50824494\n",
      " -0.42602675         nan         nan -0.66537627 -0.90867982 -0.44103144\n",
      " -0.41983086         nan -1.30325858 -0.69254093 -0.56811522         nan\n",
      "         nan -0.90847974 -1.1724602  -1.13857186         nan         nan\n",
      " -0.59239095 -0.64298789 -1.38624135 -0.89970134         nan -0.91327805\n",
      " -1.17246021         nan         nan         nan         nan -0.75852332\n",
      "         nan         nan -1.37629656 -0.57839594 -0.84526044 -0.92735584\n",
      " -0.5127977  -1.20792919 -1.13810748 -0.59848435         nan         nan\n",
      "         nan         nan -1.4392608  -0.4074914  -0.699971   -1.11771917\n",
      "         nan         nan         nan -0.58320903         nan -0.55549208\n",
      "         nan -1.35623514 -0.7340496  -0.66763005 -0.62997737 -1.1419602\n",
      " -0.39862022 -1.00499785 -0.57115626 -1.33849988         nan -0.56837222\n",
      " -0.60167849 -1.31835555         nan -0.85992033 -0.40117346 -1.33144778\n",
      " -1.13694613         nan         nan         nan -0.9494124  -1.011757\n",
      " -0.70229266         nan -1.08922804 -0.88280766         nan         nan\n",
      " -0.65699611 -0.75532119         nan -0.55808376 -0.71103791 -0.67676242\n",
      " -0.85255797         nan -0.74809857 -0.4335736          nan -1.27313421\n",
      "         nan         nan -1.08353568 -0.74763273 -0.52659031 -0.86369968\n",
      "         nan -0.94364386 -0.68130713 -0.54069445         nan -0.73207788\n",
      "         nan         nan -1.47636023         nan         nan         nan\n",
      "         nan -0.96091104 -1.31853358 -1.20365736         nan -0.91049631\n",
      "         nan         nan -0.67545648 -1.00095665 -0.67621634         nan]\n",
      "  warnings.warn(\n"
     ]
    },
    {
     "name": "stdout",
     "output_type": "stream",
     "text": [
      "{'n_estimators': 500, 'min_samples_split': 2, 'min_samples_leaf': 1, 'max_features': 'sqrt', 'max_depth': 150}\n"
     ]
    }
   ],
   "source": [
    "#n_estimators_range=[int(x) for x in np.linspace(start=50,stop=3000,num=60)]\n",
    "n_estimators_range=[150, 200, 250, 300, 350, 500]\n",
    "max_features_range=['auto','sqrt','log2']\n",
    "#max_depth_range=[int(x) for x in np.linspace(10,500,num=50)]\n",
    "max_depth_range=[50, 100, 150, 200, 300]\n",
    "max_depth_range.append(None)\n",
    "min_samples_split_range=[2,5,10,20,50]\n",
    "min_samples_leaf_range=[1, 2, 5, 10, 20]\n",
    "\n",
    "rfr_hp_range={'n_estimators':n_estimators_range,\n",
    "              'max_features':max_features_range,\n",
    "              'max_depth':max_depth_range,\n",
    "              'min_samples_split':min_samples_split_range,\n",
    "              'min_samples_leaf':min_samples_leaf_range\n",
    "             }\n",
    "print(rfr_hp_range)\n",
    "\n",
    "rfr_base=RandomForestRegressor()\n",
    "rfr_random=RandomizedSearchCV(estimator=rfr_base,\n",
    "                              param_distributions=rfr_hp_range,\n",
    "                              n_iter=300,\n",
    "                              n_jobs=-1,\n",
    "                              cv=10,\n",
    "                              verbose=1,\n",
    "                              random_state=42)\n",
    "rfr_random.fit(X_train,y_train)\n",
    "\n",
    "best_hp_now=rfr_random.best_params_\n",
    "print(best_hp_now)"
   ]
  },
  {
   "cell_type": "markdown",
   "metadata": {},
   "source": [
    "output4.csv"
   ]
  },
  {
   "cell_type": "code",
   "execution_count": 5,
   "metadata": {},
   "outputs": [
    {
     "name": "stdout",
     "output_type": "stream",
     "text": [
      "Fitting 5 folds for each of 200 candidates, totalling 1000 fits\n"
     ]
    },
    {
     "name": "stderr",
     "output_type": "stream",
     "text": [
      "/Users/xuyan/anaconda3/lib/python3.11/site-packages/sklearn/model_selection/_validation.py:425: FitFailedWarning: \n",
      "270 fits failed out of a total of 1000.\n",
      "The score on these train-test partitions for these parameters will be set to nan.\n",
      "If these failures are not expected, you can try to debug them by setting error_score='raise'.\n",
      "\n",
      "Below are more details about the failures:\n",
      "--------------------------------------------------------------------------------\n",
      "92 fits failed with the following error:\n",
      "Traceback (most recent call last):\n",
      "  File \"/Users/xuyan/anaconda3/lib/python3.11/site-packages/sklearn/model_selection/_validation.py\", line 732, in _fit_and_score\n",
      "    estimator.fit(X_train, y_train, **fit_params)\n",
      "  File \"/Users/xuyan/anaconda3/lib/python3.11/site-packages/sklearn/base.py\", line 1144, in wrapper\n",
      "    estimator._validate_params()\n",
      "  File \"/Users/xuyan/anaconda3/lib/python3.11/site-packages/sklearn/base.py\", line 637, in _validate_params\n",
      "    validate_parameter_constraints(\n",
      "  File \"/Users/xuyan/anaconda3/lib/python3.11/site-packages/sklearn/utils/_param_validation.py\", line 95, in validate_parameter_constraints\n",
      "    raise InvalidParameterError(\n",
      "sklearn.utils._param_validation.InvalidParameterError: The 'max_features' parameter of RandomForestRegressor must be an int in the range [1, inf), a float in the range (0.0, 1.0], a str among {'log2', 'sqrt'} or None. Got 'auto' instead.\n",
      "\n",
      "--------------------------------------------------------------------------------\n",
      "178 fits failed with the following error:\n",
      "Traceback (most recent call last):\n",
      "  File \"/Users/xuyan/anaconda3/lib/python3.11/site-packages/sklearn/model_selection/_validation.py\", line 732, in _fit_and_score\n",
      "    estimator.fit(X_train, y_train, **fit_params)\n",
      "  File \"/Users/xuyan/anaconda3/lib/python3.11/site-packages/sklearn/base.py\", line 1144, in wrapper\n",
      "    estimator._validate_params()\n",
      "  File \"/Users/xuyan/anaconda3/lib/python3.11/site-packages/sklearn/base.py\", line 637, in _validate_params\n",
      "    validate_parameter_constraints(\n",
      "  File \"/Users/xuyan/anaconda3/lib/python3.11/site-packages/sklearn/utils/_param_validation.py\", line 95, in validate_parameter_constraints\n",
      "    raise InvalidParameterError(\n",
      "sklearn.utils._param_validation.InvalidParameterError: The 'max_features' parameter of RandomForestRegressor must be an int in the range [1, inf), a float in the range (0.0, 1.0], a str among {'sqrt', 'log2'} or None. Got 'auto' instead.\n",
      "\n",
      "  warnings.warn(some_fits_failed_message, FitFailedWarning)\n",
      "/Users/xuyan/anaconda3/lib/python3.11/site-packages/sklearn/model_selection/_search.py:976: UserWarning: One or more of the test scores are non-finite: [-0.62203397 -0.8272654  -0.97269027 -0.88977054 -0.78950634 -0.72338893\n",
      "         nan -0.9939861  -2.45279897 -0.86462551         nan -2.4298448\n",
      "         nan -0.99937662         nan -0.90843661         nan -0.62343196\n",
      "         nan -0.87833919 -0.7188822  -2.61513083 -0.85781292 -0.83390737\n",
      " -0.71586627         nan         nan -0.73876084 -1.01473954 -2.57260656\n",
      "         nan -2.54817347         nan -2.78153614         nan -0.73972931\n",
      " -0.9382517          nan -2.92240895 -0.74268119 -0.74465821         nan\n",
      " -0.6014829  -0.7351317  -2.74857178 -0.97696259 -0.77412475 -2.72937386\n",
      " -0.96658698 -0.6963598  -0.86814797 -0.92762348         nan -0.77577007\n",
      "         nan -0.81166044 -2.78999143 -0.73323159 -0.67996713 -2.54555119\n",
      " -0.75768839         nan -1.0117986  -2.82213037 -0.77176354 -0.69111078\n",
      "         nan -0.63426709 -0.84972428 -1.00071464         nan -0.72152221\n",
      "         nan -0.84224299 -0.91888511 -0.64859904 -2.5791103  -0.64349107\n",
      "         nan -0.74550068 -0.79185927 -0.86510026 -0.86710834         nan\n",
      "         nan         nan -0.80908273 -0.74880807 -2.45721079         nan\n",
      "         nan         nan -0.72734744         nan -0.81946478         nan\n",
      " -1.04224971 -2.60802062 -0.93375632         nan -0.97507143         nan\n",
      " -0.70551157 -0.80907332 -0.75010103 -0.74056225 -0.78078593         nan\n",
      "         nan -0.82914503 -0.82810935 -0.89671767         nan -0.94182208\n",
      " -0.89289257         nan -0.870527           nan -0.75069011         nan\n",
      " -0.87391777 -0.81548632         nan -0.72934973 -1.01604017 -0.62314527\n",
      " -0.85293809 -2.492473   -0.71488034 -0.89447288 -1.02699387 -0.86329707\n",
      " -0.68833537         nan -0.8277936  -0.78448566 -2.47374            nan\n",
      " -0.79960212 -0.87817214 -1.03243165 -0.73928505         nan -1.01782333\n",
      " -0.81691985         nan -1.04732362         nan -2.76045989 -0.71195188\n",
      "         nan -0.8694402  -0.92008982 -0.80729173 -0.72532304 -0.73028622\n",
      " -0.65085571 -0.73969964 -0.6786137  -2.46137571 -0.80475954 -0.78982581\n",
      "         nan -0.59573398         nan -0.80001575 -0.62311847 -2.39756274\n",
      " -2.65517793         nan -0.9184868  -0.85963232         nan -0.75770841\n",
      " -0.91631191         nan         nan -0.72967051         nan -0.88906382\n",
      "         nan         nan -0.83467809 -0.7739502  -0.84776117 -0.89806522\n",
      " -0.97308602 -0.78370584 -0.79940544         nan         nan -0.75896192\n",
      " -0.85216399 -0.64116955 -0.78148423 -0.82813728 -0.67254904 -2.56421008\n",
      " -2.5478498  -0.9933013 ]\n",
      "  warnings.warn(\n"
     ]
    },
    {
     "name": "stdout",
     "output_type": "stream",
     "text": [
      "{'n_estimators': 200, 'min_samples_split': 2, 'min_samples_leaf': 1, 'max_features': 'sqrt', 'max_depth': 20}\n"
     ]
    }
   ],
   "source": [
    "#n_estimators_range=[int(x) for x in np.linspace(start=50,stop=3000,num=60)]\n",
    "n_estimators_range=[100, 150, 200, 300]\n",
    "max_features_range=['auto','sqrt','log2']\n",
    "#max_depth_range=[int(x) for x in np.linspace(10,500,num=50)]\n",
    "max_depth_range=[5, 10, 20, 50]\n",
    "max_depth_range.append(None)\n",
    "min_samples_split_range=[2,5,10,20]\n",
    "min_samples_leaf_range=[1, 2, 5, 10]\n",
    "\n",
    "rfr_hp_range={'n_estimators':n_estimators_range,\n",
    "              'max_features':max_features_range,\n",
    "              'max_depth':max_depth_range,\n",
    "              'min_samples_split':min_samples_split_range,\n",
    "              'min_samples_leaf':min_samples_leaf_range\n",
    "             }\n",
    "\n",
    "rfr_base=RandomForestRegressor()\n",
    "rfr_random=RandomizedSearchCV(estimator=rfr_base,\n",
    "                              param_distributions=rfr_hp_range,\n",
    "                              n_iter=200,\n",
    "                              n_jobs=-1,\n",
    "                              cv=5,\n",
    "                              verbose=1,\n",
    "                              random_state=42)\n",
    "rfr_random.fit(X_train,y_train)\n",
    "\n",
    "best_hp_now=rfr_random.best_params_\n",
    "print(best_hp_now)"
   ]
  },
  {
   "cell_type": "code",
   "execution_count": 3,
   "metadata": {},
   "outputs": [
    {
     "name": "stdout",
     "output_type": "stream",
     "text": [
      "{'n_estimators': [500, 600, 700], 'max_features': ['sqrt', 'log2'], 'max_depth': [150, 200, 300, None], 'min_samples_split': [2, 5, 10, 20, 50], 'min_samples_leaf': [1, 2, 5, 10, 20]}\n",
      "Fitting 5 folds for each of 100 candidates, totalling 500 fits\n"
     ]
    },
    {
     "name": "stderr",
     "output_type": "stream",
     "text": [
      "/Users/xuyan/anaconda3/lib/python3.11/site-packages/joblib/externals/loky/process_executor.py:700: UserWarning: A worker stopped while some jobs were given to the executor. This can be caused by a too short worker timeout or by a memory leak.\n",
      "  warnings.warn(\n"
     ]
    },
    {
     "name": "stdout",
     "output_type": "stream",
     "text": [
      "{'n_estimators': 500, 'min_samples_split': 2, 'min_samples_leaf': 1, 'max_features': 'sqrt', 'max_depth': 300}\n"
     ]
    }
   ],
   "source": [
    "n_estimators_range=[500, 600, 700]\n",
    "max_features_range=['sqrt','log2']\n",
    "max_depth_range=[150, 200, 300]\n",
    "max_depth_range.append(None)\n",
    "min_samples_split_range=[2,5,10,20,50]\n",
    "min_samples_leaf_range=[1, 2, 5, 10, 20]\n",
    "\n",
    "rfr_hp_range={'n_estimators':n_estimators_range,\n",
    "              'max_features':max_features_range,\n",
    "              'max_depth':max_depth_range,\n",
    "              'min_samples_split':min_samples_split_range,\n",
    "              'min_samples_leaf':min_samples_leaf_range\n",
    "             }\n",
    "print(rfr_hp_range)\n",
    "\n",
    "rfr_base=RandomForestRegressor()\n",
    "rfr_random=RandomizedSearchCV(estimator=rfr_base,\n",
    "                              param_distributions=rfr_hp_range,\n",
    "                              n_iter=100,\n",
    "                              n_jobs=-1,\n",
    "                              cv=5,\n",
    "                              verbose=1,\n",
    "                              random_state=42)\n",
    "rfr_random.fit(X_train,y_train)\n",
    "\n",
    "best_hp_now=rfr_random.best_params_\n",
    "print(best_hp_now)"
   ]
  }
 ],
 "metadata": {
  "kernelspec": {
   "display_name": "base",
   "language": "python",
   "name": "python3"
  },
  "language_info": {
   "codemirror_mode": {
    "name": "ipython",
    "version": 3
   },
   "file_extension": ".py",
   "mimetype": "text/x-python",
   "name": "python",
   "nbconvert_exporter": "python",
   "pygments_lexer": "ipython3",
   "version": "3.11.5"
  }
 },
 "nbformat": 4,
 "nbformat_minor": 2
}
