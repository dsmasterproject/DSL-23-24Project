{
 "cells": [
  {
   "cell_type": "code",
   "execution_count": 1,
   "metadata": {},
   "outputs": [],
   "source": [
    "import pandas as pd\n",
    "from sklearn.model_selection import RandomizedSearchCV\n",
    "from sklearn.ensemble import RandomForestRegressor\n",
    "import numpy as np\n",
    "\n",
    "development = pd.read_csv(\"./../../DSL_Winter_Project_2024/development.csv\")\n",
    "\n",
    "outlier_column_index=[0, 7, 12, 15, 16, 17]\n",
    "columns_to_drop=[]\n",
    "\n",
    "for index in outlier_column_index:\n",
    "    columns_to_drop.append('pmax[%s]' % index)\n",
    "    columns_to_drop.append('negpmax[%s]' % index)\n",
    "    columns_to_drop.append('tmax[%s]' % index)\n",
    "    columns_to_drop.append('area[%s]' % index)\n",
    "    columns_to_drop.append('rms[%s]' % index)\n",
    "\n",
    "df=development.drop(columns=columns_to_drop)\n",
    "\n",
    "train_datasets = []\n",
    "test_datasets=[]\n",
    "\n",
    "for i in range(0, len(df), 100):\n",
    "    subset1 = df.iloc[i:i+100].head(5)\n",
    "    train_datasets.append(subset1)\n",
    "\n",
    "    subset2 = df.iloc[i:i+100].tail(1)\n",
    "    test_datasets.append(subset2)\n",
    "\n",
    "train_df=pd.concat(train_datasets, ignore_index=False)\n",
    "test_df=pd.concat(test_datasets, ignore_index=False)\n",
    "\n",
    "X_train=train_df.drop(columns=['x', 'y'])\n",
    "y_train=train_df.loc[:,['x', 'y']]\n",
    "\n",
    "X_test=test_df.drop(columns=['x', 'y'])\n",
    "y_test=test_df.loc[:,['x', 'y']]"
   ]
  },
  {
   "cell_type": "code",
   "execution_count": null,
   "metadata": {},
   "outputs": [],
   "source": [
    "n_estimators_range=[490,495,500,505,510]\n",
    "max_features_range=['auto','sqrt','log2']\n",
    "max_depth_range=[140,145,150,155,160]\n",
    "max_depth_range.append(None)\n",
    "min_samples_split_range=[2,5,10,20,30]\n",
    "min_samples_leaf_range=[1, 2, 5, 10, 20]\n",
    "\n",
    "rfr_hp_range={'n_estimators':n_estimators_range,\n",
    "              'max_features':max_features_range,\n",
    "              'max_depth':max_depth_range,\n",
    "              'min_samples_split':min_samples_split_range,\n",
    "              'min_samples_leaf':min_samples_leaf_range\n",
    "             }\n",
    "print(rfr_hp_range)\n",
    "\n",
    "rfr_base=RandomForestRegressor()\n",
    "rfr_random=RandomizedSearchCV(estimator=rfr_base,\n",
    "                              param_distributions=rfr_hp_range,\n",
    "                              n_iter=200,\n",
    "                              n_jobs=-1,\n",
    "                              cv=5,\n",
    "                              verbose=1,\n",
    "                              random_state=42)\n",
    "rfr_random.fit(X_train,y_train)\n",
    "\n",
    "best_hp_now=rfr_random.best_params_\n",
    "print(best_hp_now)"
   ]
  },
  {
   "cell_type": "code",
   "execution_count": 3,
   "metadata": {},
   "outputs": [
    {
     "name": "stdout",
     "output_type": "stream",
     "text": [
      "{'n_estimators': [480, 485, 490, 495, 499], 'max_features': ['sqrt'], 'max_depth': [45, 47, 50, 52, 55, None], 'min_samples_split': [2, 5, 10, 20, 30], 'min_samples_leaf': [1, 2, 5, 10, 20]}\n",
      "Fitting 10 folds for each of 200 candidates, totalling 2000 fits\n"
     ]
    },
    {
     "name": "stderr",
     "output_type": "stream",
     "text": [
      "/Users/xuyan/anaconda3/lib/python3.11/site-packages/joblib/externals/loky/process_executor.py:700: UserWarning: A worker stopped while some jobs were given to the executor. This can be caused by a too short worker timeout or by a memory leak.\n",
      "  warnings.warn(\n"
     ]
    },
    {
     "name": "stdout",
     "output_type": "stream",
     "text": [
      "{'n_estimators': 495, 'min_samples_split': 2, 'min_samples_leaf': 2, 'max_features': 'sqrt', 'max_depth': 45}\n"
     ]
    }
   ],
   "source": [
    "n_estimators_range=[480,485,490,495,499]\n",
    "max_features_range=['sqrt']\n",
    "max_depth_range=[45,47,50,52,55]\n",
    "max_depth_range.append(None)\n",
    "min_samples_split_range=[2,5,10,20,30]\n",
    "min_samples_leaf_range=[1, 2, 5, 10, 20]\n",
    "\n",
    "rfr_hp_range={'n_estimators':n_estimators_range,\n",
    "              'max_features':max_features_range,\n",
    "              'max_depth':max_depth_range,\n",
    "              'min_samples_split':min_samples_split_range,\n",
    "              'min_samples_leaf':min_samples_leaf_range\n",
    "             }\n",
    "print(rfr_hp_range)\n",
    "\n",
    "rfr_base=RandomForestRegressor()\n",
    "rfr_random=RandomizedSearchCV(estimator=rfr_base,\n",
    "                              param_distributions=rfr_hp_range,\n",
    "                              n_iter=200,\n",
    "                              n_jobs=-1,\n",
    "                              cv=10,\n",
    "                              verbose=1,\n",
    "                              random_state=42)\n",
    "rfr_random.fit(X_train,y_train)\n",
    "\n",
    "best_hp_now=rfr_random.best_params_\n",
    "print(best_hp_now)"
   ]
  },
  {
   "cell_type": "code",
   "execution_count": 4,
   "metadata": {},
   "outputs": [
    {
     "name": "stdout",
     "output_type": "stream",
     "text": [
      "{'n_estimators': [493, 495, 497], 'max_features': ['sqrt'], 'max_depth': [43, 45, 47, None], 'min_samples_split': [2, 5, 10], 'min_samples_leaf': [1, 2, 5, 10]}\n",
      "Fitting 10 folds for each of 144 candidates, totalling 1440 fits\n"
     ]
    },
    {
     "name": "stderr",
     "output_type": "stream",
     "text": [
      "/Users/xuyan/anaconda3/lib/python3.11/site-packages/sklearn/model_selection/_search.py:307: UserWarning: The total space of parameters 144 is smaller than n_iter=200. Running 144 iterations. For exhaustive searches, use GridSearchCV.\n",
      "  warnings.warn(\n",
      "/Users/xuyan/anaconda3/lib/python3.11/site-packages/joblib/externals/loky/process_executor.py:700: UserWarning: A worker stopped while some jobs were given to the executor. This can be caused by a too short worker timeout or by a memory leak.\n",
      "  warnings.warn(\n"
     ]
    },
    {
     "name": "stdout",
     "output_type": "stream",
     "text": [
      "{'n_estimators': 495, 'min_samples_split': 2, 'min_samples_leaf': 1, 'max_features': 'sqrt', 'max_depth': 43}\n"
     ]
    }
   ],
   "source": [
    "n_estimators_range=[493,495,497]\n",
    "max_features_range=['sqrt']\n",
    "max_depth_range=[43,45,47]\n",
    "max_depth_range.append(None)\n",
    "min_samples_split_range=[2,5,10]\n",
    "min_samples_leaf_range=[1,2,5,10]\n",
    "\n",
    "rfr_hp_range={'n_estimators':n_estimators_range,\n",
    "              'max_features':max_features_range,\n",
    "              'max_depth':max_depth_range,\n",
    "              'min_samples_split':min_samples_split_range,\n",
    "              'min_samples_leaf':min_samples_leaf_range\n",
    "             }\n",
    "print(rfr_hp_range)\n",
    "\n",
    "rfr_base=RandomForestRegressor()\n",
    "rfr_random=RandomizedSearchCV(estimator=rfr_base,\n",
    "                              param_distributions=rfr_hp_range,\n",
    "                              n_iter=200,\n",
    "                              n_jobs=-1,\n",
    "                              cv=10,\n",
    "                              verbose=1,\n",
    "                              random_state=42)\n",
    "rfr_random.fit(X_train,y_train)\n",
    "\n",
    "best_hp_now=rfr_random.best_params_\n",
    "print(best_hp_now)"
   ]
  },
  {
   "cell_type": "code",
   "execution_count": null,
   "metadata": {},
   "outputs": [],
   "source": [
    "n_estimators_range=[800, 1000, 1200]\n",
    "max_features_range=['sqrt']\n",
    "max_depth_range=[150, 200]\n",
    "max_depth_range.append(None)\n",
    "min_samples_split_range=[2,5,10,20,50]\n",
    "min_samples_leaf_range=[1, 2, 5, 10, 20]\n",
    "\n",
    "rfr_hp_range={'n_estimators':n_estimators_range,\n",
    "              'max_features':max_features_range,\n",
    "              'max_depth':max_depth_range,\n",
    "              'min_samples_split':min_samples_split_range,\n",
    "              'min_samples_leaf':min_samples_leaf_range\n",
    "             }\n",
    "print(rfr_hp_range)\n",
    "\n",
    "rfr_base=RandomForestRegressor()\n",
    "rfr_random=RandomizedSearchCV(estimator=rfr_base,\n",
    "                              param_distributions=rfr_hp_range,\n",
    "                              n_iter=200,\n",
    "                              n_jobs=-1,\n",
    "                              cv=10,\n",
    "                              verbose=1,\n",
    "                              random_state=42)\n",
    "rfr_random.fit(X_train,y_train)\n",
    "\n",
    "best_hp_now=rfr_random.best_params_\n",
    "print(best_hp_now)"
   ]
  }
 ],
 "metadata": {
  "kernelspec": {
   "display_name": "base",
   "language": "python",
   "name": "python3"
  },
  "language_info": {
   "codemirror_mode": {
    "name": "ipython",
    "version": 3
   },
   "file_extension": ".py",
   "mimetype": "text/x-python",
   "name": "python",
   "nbconvert_exporter": "python",
   "pygments_lexer": "ipython3",
   "version": "3.11.5"
  }
 },
 "nbformat": 4,
 "nbformat_minor": 2
}
